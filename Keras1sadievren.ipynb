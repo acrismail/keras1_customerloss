{
  "nbformat": 4,
  "nbformat_minor": 0,
  "metadata": {
    "colab": {
      "provenance": [],
      "authorship_tag": "ABX9TyNOlmqquVeINQe9Ppqther8",
      "include_colab_link": true
    },
    "kernelspec": {
      "name": "python3",
      "display_name": "Python 3"
    },
    "language_info": {
      "name": "python"
    }
  },
  "cells": [
    {
      "cell_type": "markdown",
      "metadata": {
        "id": "view-in-github",
        "colab_type": "text"
      },
      "source": [
        "<a href=\"https://colab.research.google.com/github/acrismail/keras1_customerloss/blob/main/Keras1sadievren.ipynb\" target=\"_parent\"><img src=\"https://colab.research.google.com/assets/colab-badge.svg\" alt=\"Open In Colab\"/></a>"
      ]
    },
    {
      "cell_type": "code",
      "execution_count": 1,
      "metadata": {
        "id": "it-QRst_Cmvj"
      },
      "outputs": [],
      "source": [
        "import numpy as np\n",
        "import matplotlib.pyplot as plt\n",
        "import pandas as pd"
      ]
    },
    {
      "cell_type": "code",
      "source": [
        "#müşteri kayıp analizi yapıyoruz;"
      ],
      "metadata": {
        "id": "la2FAKc2RcWt"
      },
      "execution_count": 62,
      "outputs": []
    },
    {
      "cell_type": "code",
      "source": [
        "df=pd.read_csv(\"/content/churn.csv\")\n",
        "df"
      ],
      "metadata": {
        "colab": {
          "base_uri": "https://localhost:8080/",
          "height": 468
        },
        "id": "MNQpTqOeDuKu",
        "outputId": "da9a57c6-a9c8-4749-8634-2b00633cd671"
      },
      "execution_count": 43,
      "outputs": [
        {
          "output_type": "execute_result",
          "data": {
            "text/plain": [
              "      RowNumber  CustomerId    Surname  CreditScore Geography  Gender  Age  \\\n",
              "0             1    15634602   Hargrave          619    France  Female   42   \n",
              "1             2    15647311       Hill          608     Spain  Female   41   \n",
              "2             3    15619304       Onio          502    France  Female   42   \n",
              "3             4    15701354       Boni          699    France  Female   39   \n",
              "4             5    15737888   Mitchell          850     Spain  Female   43   \n",
              "...         ...         ...        ...          ...       ...     ...  ...   \n",
              "9995       9996    15606229   Obijiaku          771    France    Male   39   \n",
              "9996       9997    15569892  Johnstone          516    France    Male   35   \n",
              "9997       9998    15584532        Liu          709    France  Female   36   \n",
              "9998       9999    15682355  Sabbatini          772   Germany    Male   42   \n",
              "9999      10000    15628319     Walker          792    France  Female   28   \n",
              "\n",
              "      Tenure    Balance  NumOfProducts  HasCrCard  IsActiveMember  \\\n",
              "0          2       0.00              1          1               1   \n",
              "1          1   83807.86              1          0               1   \n",
              "2          8  159660.80              3          1               0   \n",
              "3          1       0.00              2          0               0   \n",
              "4          2  125510.82              1          1               1   \n",
              "...      ...        ...            ...        ...             ...   \n",
              "9995       5       0.00              2          1               0   \n",
              "9996      10   57369.61              1          1               1   \n",
              "9997       7       0.00              1          0               1   \n",
              "9998       3   75075.31              2          1               0   \n",
              "9999       4  130142.79              1          1               0   \n",
              "\n",
              "      EstimatedSalary  Exited  \n",
              "0           101348.88       1  \n",
              "1           112542.58       0  \n",
              "2           113931.57       1  \n",
              "3            93826.63       0  \n",
              "4            79084.10       0  \n",
              "...               ...     ...  \n",
              "9995         96270.64       0  \n",
              "9996        101699.77       0  \n",
              "9997         42085.58       1  \n",
              "9998         92888.52       1  \n",
              "9999         38190.78       0  \n",
              "\n",
              "[10000 rows x 14 columns]"
            ],
            "text/html": [
              "\n",
              "  <div id=\"df-5f228cfc-df49-41a8-b278-eee8da3fc665\">\n",
              "    <div class=\"colab-df-container\">\n",
              "      <div>\n",
              "<style scoped>\n",
              "    .dataframe tbody tr th:only-of-type {\n",
              "        vertical-align: middle;\n",
              "    }\n",
              "\n",
              "    .dataframe tbody tr th {\n",
              "        vertical-align: top;\n",
              "    }\n",
              "\n",
              "    .dataframe thead th {\n",
              "        text-align: right;\n",
              "    }\n",
              "</style>\n",
              "<table border=\"1\" class=\"dataframe\">\n",
              "  <thead>\n",
              "    <tr style=\"text-align: right;\">\n",
              "      <th></th>\n",
              "      <th>RowNumber</th>\n",
              "      <th>CustomerId</th>\n",
              "      <th>Surname</th>\n",
              "      <th>CreditScore</th>\n",
              "      <th>Geography</th>\n",
              "      <th>Gender</th>\n",
              "      <th>Age</th>\n",
              "      <th>Tenure</th>\n",
              "      <th>Balance</th>\n",
              "      <th>NumOfProducts</th>\n",
              "      <th>HasCrCard</th>\n",
              "      <th>IsActiveMember</th>\n",
              "      <th>EstimatedSalary</th>\n",
              "      <th>Exited</th>\n",
              "    </tr>\n",
              "  </thead>\n",
              "  <tbody>\n",
              "    <tr>\n",
              "      <th>0</th>\n",
              "      <td>1</td>\n",
              "      <td>15634602</td>\n",
              "      <td>Hargrave</td>\n",
              "      <td>619</td>\n",
              "      <td>France</td>\n",
              "      <td>Female</td>\n",
              "      <td>42</td>\n",
              "      <td>2</td>\n",
              "      <td>0.00</td>\n",
              "      <td>1</td>\n",
              "      <td>1</td>\n",
              "      <td>1</td>\n",
              "      <td>101348.88</td>\n",
              "      <td>1</td>\n",
              "    </tr>\n",
              "    <tr>\n",
              "      <th>1</th>\n",
              "      <td>2</td>\n",
              "      <td>15647311</td>\n",
              "      <td>Hill</td>\n",
              "      <td>608</td>\n",
              "      <td>Spain</td>\n",
              "      <td>Female</td>\n",
              "      <td>41</td>\n",
              "      <td>1</td>\n",
              "      <td>83807.86</td>\n",
              "      <td>1</td>\n",
              "      <td>0</td>\n",
              "      <td>1</td>\n",
              "      <td>112542.58</td>\n",
              "      <td>0</td>\n",
              "    </tr>\n",
              "    <tr>\n",
              "      <th>2</th>\n",
              "      <td>3</td>\n",
              "      <td>15619304</td>\n",
              "      <td>Onio</td>\n",
              "      <td>502</td>\n",
              "      <td>France</td>\n",
              "      <td>Female</td>\n",
              "      <td>42</td>\n",
              "      <td>8</td>\n",
              "      <td>159660.80</td>\n",
              "      <td>3</td>\n",
              "      <td>1</td>\n",
              "      <td>0</td>\n",
              "      <td>113931.57</td>\n",
              "      <td>1</td>\n",
              "    </tr>\n",
              "    <tr>\n",
              "      <th>3</th>\n",
              "      <td>4</td>\n",
              "      <td>15701354</td>\n",
              "      <td>Boni</td>\n",
              "      <td>699</td>\n",
              "      <td>France</td>\n",
              "      <td>Female</td>\n",
              "      <td>39</td>\n",
              "      <td>1</td>\n",
              "      <td>0.00</td>\n",
              "      <td>2</td>\n",
              "      <td>0</td>\n",
              "      <td>0</td>\n",
              "      <td>93826.63</td>\n",
              "      <td>0</td>\n",
              "    </tr>\n",
              "    <tr>\n",
              "      <th>4</th>\n",
              "      <td>5</td>\n",
              "      <td>15737888</td>\n",
              "      <td>Mitchell</td>\n",
              "      <td>850</td>\n",
              "      <td>Spain</td>\n",
              "      <td>Female</td>\n",
              "      <td>43</td>\n",
              "      <td>2</td>\n",
              "      <td>125510.82</td>\n",
              "      <td>1</td>\n",
              "      <td>1</td>\n",
              "      <td>1</td>\n",
              "      <td>79084.10</td>\n",
              "      <td>0</td>\n",
              "    </tr>\n",
              "    <tr>\n",
              "      <th>...</th>\n",
              "      <td>...</td>\n",
              "      <td>...</td>\n",
              "      <td>...</td>\n",
              "      <td>...</td>\n",
              "      <td>...</td>\n",
              "      <td>...</td>\n",
              "      <td>...</td>\n",
              "      <td>...</td>\n",
              "      <td>...</td>\n",
              "      <td>...</td>\n",
              "      <td>...</td>\n",
              "      <td>...</td>\n",
              "      <td>...</td>\n",
              "      <td>...</td>\n",
              "    </tr>\n",
              "    <tr>\n",
              "      <th>9995</th>\n",
              "      <td>9996</td>\n",
              "      <td>15606229</td>\n",
              "      <td>Obijiaku</td>\n",
              "      <td>771</td>\n",
              "      <td>France</td>\n",
              "      <td>Male</td>\n",
              "      <td>39</td>\n",
              "      <td>5</td>\n",
              "      <td>0.00</td>\n",
              "      <td>2</td>\n",
              "      <td>1</td>\n",
              "      <td>0</td>\n",
              "      <td>96270.64</td>\n",
              "      <td>0</td>\n",
              "    </tr>\n",
              "    <tr>\n",
              "      <th>9996</th>\n",
              "      <td>9997</td>\n",
              "      <td>15569892</td>\n",
              "      <td>Johnstone</td>\n",
              "      <td>516</td>\n",
              "      <td>France</td>\n",
              "      <td>Male</td>\n",
              "      <td>35</td>\n",
              "      <td>10</td>\n",
              "      <td>57369.61</td>\n",
              "      <td>1</td>\n",
              "      <td>1</td>\n",
              "      <td>1</td>\n",
              "      <td>101699.77</td>\n",
              "      <td>0</td>\n",
              "    </tr>\n",
              "    <tr>\n",
              "      <th>9997</th>\n",
              "      <td>9998</td>\n",
              "      <td>15584532</td>\n",
              "      <td>Liu</td>\n",
              "      <td>709</td>\n",
              "      <td>France</td>\n",
              "      <td>Female</td>\n",
              "      <td>36</td>\n",
              "      <td>7</td>\n",
              "      <td>0.00</td>\n",
              "      <td>1</td>\n",
              "      <td>0</td>\n",
              "      <td>1</td>\n",
              "      <td>42085.58</td>\n",
              "      <td>1</td>\n",
              "    </tr>\n",
              "    <tr>\n",
              "      <th>9998</th>\n",
              "      <td>9999</td>\n",
              "      <td>15682355</td>\n",
              "      <td>Sabbatini</td>\n",
              "      <td>772</td>\n",
              "      <td>Germany</td>\n",
              "      <td>Male</td>\n",
              "      <td>42</td>\n",
              "      <td>3</td>\n",
              "      <td>75075.31</td>\n",
              "      <td>2</td>\n",
              "      <td>1</td>\n",
              "      <td>0</td>\n",
              "      <td>92888.52</td>\n",
              "      <td>1</td>\n",
              "    </tr>\n",
              "    <tr>\n",
              "      <th>9999</th>\n",
              "      <td>10000</td>\n",
              "      <td>15628319</td>\n",
              "      <td>Walker</td>\n",
              "      <td>792</td>\n",
              "      <td>France</td>\n",
              "      <td>Female</td>\n",
              "      <td>28</td>\n",
              "      <td>4</td>\n",
              "      <td>130142.79</td>\n",
              "      <td>1</td>\n",
              "      <td>1</td>\n",
              "      <td>0</td>\n",
              "      <td>38190.78</td>\n",
              "      <td>0</td>\n",
              "    </tr>\n",
              "  </tbody>\n",
              "</table>\n",
              "<p>10000 rows × 14 columns</p>\n",
              "</div>\n",
              "      <button class=\"colab-df-convert\" onclick=\"convertToInteractive('df-5f228cfc-df49-41a8-b278-eee8da3fc665')\"\n",
              "              title=\"Convert this dataframe to an interactive table.\"\n",
              "              style=\"display:none;\">\n",
              "        \n",
              "  <svg xmlns=\"http://www.w3.org/2000/svg\" height=\"24px\"viewBox=\"0 0 24 24\"\n",
              "       width=\"24px\">\n",
              "    <path d=\"M0 0h24v24H0V0z\" fill=\"none\"/>\n",
              "    <path d=\"M18.56 5.44l.94 2.06.94-2.06 2.06-.94-2.06-.94-.94-2.06-.94 2.06-2.06.94zm-11 1L8.5 8.5l.94-2.06 2.06-.94-2.06-.94L8.5 2.5l-.94 2.06-2.06.94zm10 10l.94 2.06.94-2.06 2.06-.94-2.06-.94-.94-2.06-.94 2.06-2.06.94z\"/><path d=\"M17.41 7.96l-1.37-1.37c-.4-.4-.92-.59-1.43-.59-.52 0-1.04.2-1.43.59L10.3 9.45l-7.72 7.72c-.78.78-.78 2.05 0 2.83L4 21.41c.39.39.9.59 1.41.59.51 0 1.02-.2 1.41-.59l7.78-7.78 2.81-2.81c.8-.78.8-2.07 0-2.86zM5.41 20L4 18.59l7.72-7.72 1.47 1.35L5.41 20z\"/>\n",
              "  </svg>\n",
              "      </button>\n",
              "      \n",
              "  <style>\n",
              "    .colab-df-container {\n",
              "      display:flex;\n",
              "      flex-wrap:wrap;\n",
              "      gap: 12px;\n",
              "    }\n",
              "\n",
              "    .colab-df-convert {\n",
              "      background-color: #E8F0FE;\n",
              "      border: none;\n",
              "      border-radius: 50%;\n",
              "      cursor: pointer;\n",
              "      display: none;\n",
              "      fill: #1967D2;\n",
              "      height: 32px;\n",
              "      padding: 0 0 0 0;\n",
              "      width: 32px;\n",
              "    }\n",
              "\n",
              "    .colab-df-convert:hover {\n",
              "      background-color: #E2EBFA;\n",
              "      box-shadow: 0px 1px 2px rgba(60, 64, 67, 0.3), 0px 1px 3px 1px rgba(60, 64, 67, 0.15);\n",
              "      fill: #174EA6;\n",
              "    }\n",
              "\n",
              "    [theme=dark] .colab-df-convert {\n",
              "      background-color: #3B4455;\n",
              "      fill: #D2E3FC;\n",
              "    }\n",
              "\n",
              "    [theme=dark] .colab-df-convert:hover {\n",
              "      background-color: #434B5C;\n",
              "      box-shadow: 0px 1px 3px 1px rgba(0, 0, 0, 0.15);\n",
              "      filter: drop-shadow(0px 1px 2px rgba(0, 0, 0, 0.3));\n",
              "      fill: #FFFFFF;\n",
              "    }\n",
              "  </style>\n",
              "\n",
              "      <script>\n",
              "        const buttonEl =\n",
              "          document.querySelector('#df-5f228cfc-df49-41a8-b278-eee8da3fc665 button.colab-df-convert');\n",
              "        buttonEl.style.display =\n",
              "          google.colab.kernel.accessAllowed ? 'block' : 'none';\n",
              "\n",
              "        async function convertToInteractive(key) {\n",
              "          const element = document.querySelector('#df-5f228cfc-df49-41a8-b278-eee8da3fc665');\n",
              "          const dataTable =\n",
              "            await google.colab.kernel.invokeFunction('convertToInteractive',\n",
              "                                                     [key], {});\n",
              "          if (!dataTable) return;\n",
              "\n",
              "          const docLinkHtml = 'Like what you see? Visit the ' +\n",
              "            '<a target=\"_blank\" href=https://colab.research.google.com/notebooks/data_table.ipynb>data table notebook</a>'\n",
              "            + ' to learn more about interactive tables.';\n",
              "          element.innerHTML = '';\n",
              "          dataTable['output_type'] = 'display_data';\n",
              "          await google.colab.output.renderOutput(dataTable, element);\n",
              "          const docLink = document.createElement('div');\n",
              "          docLink.innerHTML = docLinkHtml;\n",
              "          element.appendChild(docLink);\n",
              "        }\n",
              "      </script>\n",
              "    </div>\n",
              "  </div>\n",
              "  "
            ]
          },
          "metadata": {},
          "execution_count": 43
        }
      ]
    },
    {
      "cell_type": "code",
      "source": [
        "# müşteri kaybı için"
      ],
      "metadata": {
        "id": "dxIfBYtGKoBU"
      },
      "execution_count": 44,
      "outputs": []
    },
    {
      "cell_type": "code",
      "source": [
        "X= df.iloc[:,3:13].values\n",
        "Y = df.iloc[:,13].values"
      ],
      "metadata": {
        "id": "HAqezTv7Jprz"
      },
      "execution_count": 45,
      "outputs": []
    },
    {
      "cell_type": "code",
      "source": [
        "#encoder: Kategorik -> Numeric\n",
        "from sklearn.preprocessing import LabelEncoder\n",
        "\n",
        "le =LabelEncoder()\n",
        "X[:,1] = le.fit_transform(X[:,1])\n",
        "\n",
        "X[:,2] = le.fit_transform(X[:,2])"
      ],
      "metadata": {
        "id": "2XQwMrmMJ1Gf"
      },
      "execution_count": 46,
      "outputs": []
    },
    {
      "cell_type": "code",
      "source": [
        "X"
      ],
      "metadata": {
        "colab": {
          "base_uri": "https://localhost:8080/"
        },
        "id": "5CsUx87GJ1H5",
        "outputId": "61efd5dd-f064-4c97-8c0f-3bf406b869d6"
      },
      "execution_count": 47,
      "outputs": [
        {
          "output_type": "execute_result",
          "data": {
            "text/plain": [
              "array([[619, 0, 0, ..., 1, 1, 101348.88],\n",
              "       [608, 2, 0, ..., 0, 1, 112542.58],\n",
              "       [502, 0, 0, ..., 1, 0, 113931.57],\n",
              "       ...,\n",
              "       [709, 0, 0, ..., 0, 1, 42085.58],\n",
              "       [772, 1, 1, ..., 1, 0, 92888.52],\n",
              "       [792, 0, 0, ..., 1, 0, 38190.78]], dtype=object)"
            ]
          },
          "metadata": {},
          "execution_count": 47
        }
      ]
    },
    {
      "cell_type": "code",
      "source": [
        "from sklearn.compose import ColumnTransformer\n",
        "from sklearn.preprocessing import OneHotEncoder"
      ],
      "metadata": {
        "id": "x2qj_2vvJ1Ld"
      },
      "execution_count": 48,
      "outputs": []
    },
    {
      "cell_type": "code",
      "source": [
        "ohe = ColumnTransformer([(\"ohe\", OneHotEncoder(dtype=float),[1])],\n",
        "                        remainder=\"passthrough\"\n",
        ")"
      ],
      "metadata": {
        "id": "HdZ4c1AgJ1Mm"
      },
      "execution_count": 49,
      "outputs": []
    },
    {
      "cell_type": "code",
      "source": [
        "\n",
        "X = ohe.fit_transform(X)\n",
        "X = X[:,1:]"
      ],
      "metadata": {
        "id": "V4XvegMMKhTI"
      },
      "execution_count": 50,
      "outputs": []
    },
    {
      "cell_type": "code",
      "source": [
        "X"
      ],
      "metadata": {
        "colab": {
          "base_uri": "https://localhost:8080/"
        },
        "id": "WZoJ_n7jD8fO",
        "outputId": "6e7d4659-5e42-46cb-f04f-0b5d7040fb9a"
      },
      "execution_count": 52,
      "outputs": [
        {
          "output_type": "execute_result",
          "data": {
            "text/plain": [
              "array([[0.0, 0.0, 619, ..., 1, 1, 101348.88],\n",
              "       [0.0, 1.0, 608, ..., 0, 1, 112542.58],\n",
              "       [0.0, 0.0, 502, ..., 1, 0, 113931.57],\n",
              "       ...,\n",
              "       [0.0, 0.0, 709, ..., 0, 1, 42085.58],\n",
              "       [1.0, 0.0, 772, ..., 1, 0, 92888.52],\n",
              "       [0.0, 0.0, 792, ..., 1, 0, 38190.78]], dtype=object)"
            ]
          },
          "metadata": {},
          "execution_count": 52
        }
      ]
    },
    {
      "cell_type": "code",
      "source": [
        "#verilerin egitim ve test icin bolunmesi\n",
        "from sklearn.model_selection import train_test_split"
      ],
      "metadata": {
        "id": "POFAElLsK1yS"
      },
      "execution_count": 54,
      "outputs": []
    },
    {
      "cell_type": "code",
      "source": [
        "x_train, x_test,y_train,y_test = train_test_split(X,Y,test_size=0.33, random_state=0)"
      ],
      "metadata": {
        "id": "1FuoF99ULfRx"
      },
      "execution_count": 55,
      "outputs": []
    },
    {
      "cell_type": "code",
      "source": [
        "#verilerin olceklenmesi\n",
        "from sklearn.preprocessing import StandardScaler"
      ],
      "metadata": {
        "id": "WxOMsMA9Lns_"
      },
      "execution_count": 56,
      "outputs": []
    },
    {
      "cell_type": "code",
      "source": [
        "sc=StandardScaler()"
      ],
      "metadata": {
        "id": "FxwHbWfBLtfy"
      },
      "execution_count": 57,
      "outputs": []
    },
    {
      "cell_type": "code",
      "source": [
        "X_train = sc.fit_transform(x_train)\n",
        "X_test = sc.fit_transform(x_test)"
      ],
      "metadata": {
        "id": "useJkMj-L2CE"
      },
      "execution_count": 58,
      "outputs": []
    },
    {
      "cell_type": "code",
      "source": [
        "#3 Yapay Sinir ağı\n",
        "\n",
        "\n",
        "import keras\n",
        "from keras.models import Sequential\n",
        "from keras.layers import Dense"
      ],
      "metadata": {
        "id": "3uTuUtyRL5ti"
      },
      "execution_count": 61,
      "outputs": []
    },
    {
      "cell_type": "code",
      "source": [
        "classifier=Sequential()   #model nesnesi oluşturularak,nesnee eklme,düzeltmeler yapılarak ysa oluşturulur\n",
        "\n",
        "#kaç noron olacağı (11 bağımsız değ.,1 bağımlı değişken var) tartışmakonusu,ikisinin ortalaması olabilir (6),input_dım girişte kaç katman olacağı (11 )\n",
        "\n",
        "#gizli katman ekleyelim(2 gizli katman oluşturduk)\n",
        "classifier.add(Dense(6, activation = 'relu' , input_dim = 11))\n",
        "classifier.add(Dense(6, activation = 'relu'))\n",
        "\n",
        "#çıkış katmanındasigmoid olacak aktivasyon(1 noron)\n",
        "classifier.add(Dense(1, activation = 'sigmoid'))\n"
      ],
      "metadata": {
        "id": "iAIvWAM4MRpz"
      },
      "execution_count": 68,
      "outputs": []
    },
    {
      "cell_type": "code",
      "source": [
        "  #1-0 dan oluştuğu için binary(loss),fazla seçenek olsaydı(1 den fazla grup olsa categoric)\n",
        "classifier.compile(optimizer=\"adam\",loss=\"binary_crossentropy\",metrics=[\"accuracy\"])"
      ],
      "metadata": {
        "id": "KmWgJjl7RjhN"
      },
      "execution_count": 69,
      "outputs": []
    },
    {
      "cell_type": "code",
      "source": [
        "classifier.fit(X_train,y_train,epochs=50) #tur sayısı 50 seçtik (çok fazla seçilirse overfitting e yol açabilir)"
      ],
      "metadata": {
        "colab": {
          "base_uri": "https://localhost:8080/"
        },
        "id": "QOc5SbJKWgXq",
        "outputId": "108eca5b-eeed-47ad-e902-b86ed0da47e2"
      },
      "execution_count": 70,
      "outputs": [
        {
          "output_type": "stream",
          "name": "stdout",
          "text": [
            "Epoch 1/50\n",
            "210/210 [==============================] - 2s 2ms/step - loss: 0.5185 - accuracy: 0.7984\n",
            "Epoch 2/50\n",
            "210/210 [==============================] - 0s 2ms/step - loss: 0.4632 - accuracy: 0.7982\n",
            "Epoch 3/50\n",
            "210/210 [==============================] - 0s 2ms/step - loss: 0.4455 - accuracy: 0.7985\n",
            "Epoch 4/50\n",
            "210/210 [==============================] - 0s 2ms/step - loss: 0.4373 - accuracy: 0.7982\n",
            "Epoch 5/50\n",
            "210/210 [==============================] - 0s 2ms/step - loss: 0.4324 - accuracy: 0.8013\n",
            "Epoch 6/50\n",
            "210/210 [==============================] - 0s 2ms/step - loss: 0.4288 - accuracy: 0.8088\n",
            "Epoch 7/50\n",
            "210/210 [==============================] - 0s 2ms/step - loss: 0.4267 - accuracy: 0.8133\n",
            "Epoch 8/50\n",
            "210/210 [==============================] - 0s 2ms/step - loss: 0.4245 - accuracy: 0.8152\n",
            "Epoch 9/50\n",
            "210/210 [==============================] - 0s 2ms/step - loss: 0.4227 - accuracy: 0.8179\n",
            "Epoch 10/50\n",
            "210/210 [==============================] - 0s 2ms/step - loss: 0.4212 - accuracy: 0.8187\n",
            "Epoch 11/50\n",
            "210/210 [==============================] - 0s 2ms/step - loss: 0.4196 - accuracy: 0.8197\n",
            "Epoch 12/50\n",
            "210/210 [==============================] - 0s 2ms/step - loss: 0.4183 - accuracy: 0.8215\n",
            "Epoch 13/50\n",
            "210/210 [==============================] - 0s 2ms/step - loss: 0.4169 - accuracy: 0.8228\n",
            "Epoch 14/50\n",
            "210/210 [==============================] - 0s 2ms/step - loss: 0.4151 - accuracy: 0.8234\n",
            "Epoch 15/50\n",
            "210/210 [==============================] - 0s 2ms/step - loss: 0.4139 - accuracy: 0.8260\n",
            "Epoch 16/50\n",
            "210/210 [==============================] - 0s 2ms/step - loss: 0.4122 - accuracy: 0.8278\n",
            "Epoch 17/50\n",
            "210/210 [==============================] - 0s 2ms/step - loss: 0.4107 - accuracy: 0.8282\n",
            "Epoch 18/50\n",
            "210/210 [==============================] - 0s 2ms/step - loss: 0.4091 - accuracy: 0.8293\n",
            "Epoch 19/50\n",
            "210/210 [==============================] - 0s 2ms/step - loss: 0.4075 - accuracy: 0.8307\n",
            "Epoch 20/50\n",
            "210/210 [==============================] - 0s 2ms/step - loss: 0.4057 - accuracy: 0.8316\n",
            "Epoch 21/50\n",
            "210/210 [==============================] - 0s 2ms/step - loss: 0.4042 - accuracy: 0.8328\n",
            "Epoch 22/50\n",
            "210/210 [==============================] - 0s 2ms/step - loss: 0.4024 - accuracy: 0.8348\n",
            "Epoch 23/50\n",
            "210/210 [==============================] - 0s 2ms/step - loss: 0.4000 - accuracy: 0.8340\n",
            "Epoch 24/50\n",
            "210/210 [==============================] - 0s 2ms/step - loss: 0.3978 - accuracy: 0.8384\n",
            "Epoch 25/50\n",
            "210/210 [==============================] - 0s 2ms/step - loss: 0.3956 - accuracy: 0.8361\n",
            "Epoch 26/50\n",
            "210/210 [==============================] - 0s 2ms/step - loss: 0.3930 - accuracy: 0.8384\n",
            "Epoch 27/50\n",
            "210/210 [==============================] - 0s 2ms/step - loss: 0.3902 - accuracy: 0.8379\n",
            "Epoch 28/50\n",
            "210/210 [==============================] - 0s 2ms/step - loss: 0.3874 - accuracy: 0.8394\n",
            "Epoch 29/50\n",
            "210/210 [==============================] - 1s 2ms/step - loss: 0.3843 - accuracy: 0.8421\n",
            "Epoch 30/50\n",
            "210/210 [==============================] - 0s 2ms/step - loss: 0.3810 - accuracy: 0.8425\n",
            "Epoch 31/50\n",
            "210/210 [==============================] - 0s 2ms/step - loss: 0.3775 - accuracy: 0.8452\n",
            "Epoch 32/50\n",
            "210/210 [==============================] - 0s 2ms/step - loss: 0.3746 - accuracy: 0.8451\n",
            "Epoch 33/50\n",
            "210/210 [==============================] - 0s 2ms/step - loss: 0.3715 - accuracy: 0.8455\n",
            "Epoch 34/50\n",
            "210/210 [==============================] - 0s 2ms/step - loss: 0.3680 - accuracy: 0.8482\n",
            "Epoch 35/50\n",
            "210/210 [==============================] - 0s 2ms/step - loss: 0.3653 - accuracy: 0.8485\n",
            "Epoch 36/50\n",
            "210/210 [==============================] - 0s 2ms/step - loss: 0.3626 - accuracy: 0.8463\n",
            "Epoch 37/50\n",
            "210/210 [==============================] - 0s 2ms/step - loss: 0.3605 - accuracy: 0.8509\n",
            "Epoch 38/50\n",
            "210/210 [==============================] - 0s 2ms/step - loss: 0.3579 - accuracy: 0.8513\n",
            "Epoch 39/50\n",
            "210/210 [==============================] - 1s 6ms/step - loss: 0.3565 - accuracy: 0.8515\n",
            "Epoch 40/50\n",
            "210/210 [==============================] - 0s 2ms/step - loss: 0.3544 - accuracy: 0.8540\n",
            "Epoch 41/50\n",
            "210/210 [==============================] - 1s 6ms/step - loss: 0.3526 - accuracy: 0.8555\n",
            "Epoch 42/50\n",
            "210/210 [==============================] - 0s 2ms/step - loss: 0.3510 - accuracy: 0.8543\n",
            "Epoch 43/50\n",
            "210/210 [==============================] - 0s 2ms/step - loss: 0.3499 - accuracy: 0.8561\n",
            "Epoch 44/50\n",
            "210/210 [==============================] - 0s 2ms/step - loss: 0.3483 - accuracy: 0.8566\n",
            "Epoch 45/50\n",
            "210/210 [==============================] - 0s 2ms/step - loss: 0.3472 - accuracy: 0.8576\n",
            "Epoch 46/50\n",
            "210/210 [==============================] - 0s 2ms/step - loss: 0.3460 - accuracy: 0.8594\n",
            "Epoch 47/50\n",
            "210/210 [==============================] - 0s 2ms/step - loss: 0.3453 - accuracy: 0.8600\n",
            "Epoch 48/50\n",
            "210/210 [==============================] - 0s 2ms/step - loss: 0.3443 - accuracy: 0.8607\n",
            "Epoch 49/50\n",
            "210/210 [==============================] - 0s 2ms/step - loss: 0.3434 - accuracy: 0.8591\n",
            "Epoch 50/50\n",
            "210/210 [==============================] - 0s 2ms/step - loss: 0.3432 - accuracy: 0.8618\n"
          ]
        },
        {
          "output_type": "execute_result",
          "data": {
            "text/plain": [
              "<keras.callbacks.History at 0x7faff6ff8790>"
            ]
          },
          "metadata": {},
          "execution_count": 70
        }
      ]
    },
    {
      "cell_type": "code",
      "source": [
        "y_pred=classifier.predict(X_test)"
      ],
      "metadata": {
        "colab": {
          "base_uri": "https://localhost:8080/"
        },
        "id": "qo2dxGXaXC8s",
        "outputId": "4c618807-aaf1-4ba8-8e39-1a9c8886eae3"
      },
      "execution_count": 71,
      "outputs": [
        {
          "output_type": "stream",
          "name": "stdout",
          "text": [
            "104/104 [==============================] - 0s 2ms/step\n"
          ]
        }
      ]
    },
    {
      "cell_type": "code",
      "source": [
        "y_pred"
      ],
      "metadata": {
        "colab": {
          "base_uri": "https://localhost:8080/"
        },
        "id": "4yjcQKIjXUFX",
        "outputId": "52188522-2c4b-480d-d842-0d983bd067b8"
      },
      "execution_count": 72,
      "outputs": [
        {
          "output_type": "execute_result",
          "data": {
            "text/plain": [
              "array([[0.30840704],\n",
              "       [0.32694244],\n",
              "       [0.14214067],\n",
              "       ...,\n",
              "       [0.25609314],\n",
              "       [0.6357177 ],\n",
              "       [0.04866835]], dtype=float32)"
            ]
          },
          "metadata": {},
          "execution_count": 72
        }
      ]
    },
    {
      "cell_type": "code",
      "source": [
        "#0.5 ten büyük olanlar bırakmasın,değilse bıraksın;"
      ],
      "metadata": {
        "id": "SLZK1rOzXvD6"
      },
      "execution_count": 73,
      "outputs": []
    },
    {
      "cell_type": "code",
      "source": [
        "y_pred=(y_pred>0.5)"
      ],
      "metadata": {
        "id": "-rrr-KXGX8jF"
      },
      "execution_count": 75,
      "outputs": []
    },
    {
      "cell_type": "code",
      "source": [
        "from sklearn.metrics import confusion_matrix,accuracy_score"
      ],
      "metadata": {
        "id": "PJgL4eo3YCch"
      },
      "execution_count": 79,
      "outputs": []
    },
    {
      "cell_type": "code",
      "source": [
        "cm=confusion_matrix(y_test,y_pred)"
      ],
      "metadata": {
        "id": "n0Qj5_ilYNpE"
      },
      "execution_count": 77,
      "outputs": []
    },
    {
      "cell_type": "code",
      "source": [
        "cm"
      ],
      "metadata": {
        "colab": {
          "base_uri": "https://localhost:8080/"
        },
        "id": "9DFk5bgeYU7m",
        "outputId": "4adeee7b-127e-45dc-e40c-4baa80d1a365"
      },
      "execution_count": 78,
      "outputs": [
        {
          "output_type": "execute_result",
          "data": {
            "text/plain": [
              "array([[2513,  104],\n",
              "       [ 361,  322]])"
            ]
          },
          "metadata": {},
          "execution_count": 78
        }
      ]
    },
    {
      "cell_type": "code",
      "source": [
        "# 2513+322 değeri doğru tahmin etmiş,başarı oranı yaklaşık olarak %86"
      ],
      "metadata": {
        "id": "xbg8rcKNYgFC"
      },
      "execution_count": 81,
      "outputs": []
    },
    {
      "cell_type": "code",
      "source": [
        "accuracy_score(y_test,y_pred)"
      ],
      "metadata": {
        "colab": {
          "base_uri": "https://localhost:8080/"
        },
        "id": "GeVP7Ig9YWR5",
        "outputId": "839f97d5-5757-43b6-9c03-cc8506cdb0b8"
      },
      "execution_count": 82,
      "outputs": [
        {
          "output_type": "execute_result",
          "data": {
            "text/plain": [
              "0.8590909090909091"
            ]
          },
          "metadata": {},
          "execution_count": 82
        }
      ]
    },
    {
      "cell_type": "code",
      "source": [],
      "metadata": {
        "id": "L5OoSprOYeqs"
      },
      "execution_count": null,
      "outputs": []
    }
  ]
}